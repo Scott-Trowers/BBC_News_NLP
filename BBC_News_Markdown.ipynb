{
 "cells": [
  {
   "cell_type": "markdown",
   "id": "bf857b3d-7423-4674-b41c-83f31bc30615",
   "metadata": {},
   "source": [
    "An analysis of BBC News articles, using NLP. [Data is available here](http://mlg.ucd.ie/datasets/bbc.html).\n",
    "\n",
    "Objectives:\n",
    "* Use the full text dataset and classify each existing category into sub-categories: \n",
    "    * Breakdown ‘Business’ into stock market, company news, mergers and acquisitions etc. \n",
    "    * Breakdown ‘Entertainment’ into cinema, theatre, music, literature, personality etc. \n",
    "    * Breakdown ‘Sports’ into the type of sport: cricket, football, Olympics etc. \n",
    "    * Please create as many categories as you feel are appropriate. \n",
    "* Identify documents and extract the named entities for media personalities, clearly identifying their jobs (e.g. Politicians, TV/Film Personalities, Musicians)\n",
    "* Extract summaries of anything that took place or is/was scheduled to take place in April.\n"
   ]
  },
  {
   "cell_type": "code",
   "execution_count": null,
   "id": "dc4d716f-4ca2-4c4c-a999-bf35128cc266",
   "metadata": {},
   "outputs": [],
   "source": []
  }
 ],
 "metadata": {
  "kernelspec": {
   "display_name": "Python 3 (ipykernel)",
   "language": "python",
   "name": "python3"
  },
  "language_info": {
   "codemirror_mode": {
    "name": "ipython",
    "version": 3
   },
   "file_extension": ".py",
   "mimetype": "text/x-python",
   "name": "python",
   "nbconvert_exporter": "python",
   "pygments_lexer": "ipython3",
   "version": "3.11.7"
  }
 },
 "nbformat": 4,
 "nbformat_minor": 5
}
